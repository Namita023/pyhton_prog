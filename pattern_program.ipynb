{
 "cells": [
  {
   "cell_type": "code",
   "execution_count": 5,
   "metadata": {},
   "outputs": [
    {
     "name": "stdout",
     "output_type": "stream",
     "text": [
      "*\n",
      "**\n",
      "***\n",
      "****\n",
      "*****\n"
     ]
    }
   ],
   "source": [
    "num=5\n",
    "for n in range(1,num+1):\n",
    "    print(\"*\"*n,end=\"\")\n",
    "    print()"
   ]
  },
  {
   "cell_type": "code",
   "execution_count": 6,
   "metadata": {},
   "outputs": [
    {
     "name": "stdout",
     "output_type": "stream",
     "text": [
      "    *\n",
      "   **\n",
      "  ***\n",
      " ****\n",
      "*****\n"
     ]
    }
   ],
   "source": [
    "num,space=1,4\n",
    "while num!=6:\n",
    "    print((\" \"*space)+(\"*\"*num))\n",
    "    space-=1\n",
    "    num+=1"
   ]
  },
  {
   "cell_type": "code",
   "execution_count": 8,
   "metadata": {},
   "outputs": [
    {
     "name": "stdout",
     "output_type": "stream",
     "text": [
      "*****\n",
      "****\n",
      "***\n",
      "**\n",
      "*\n",
      "\n"
     ]
    }
   ],
   "source": [
    "num=5\n",
    "while num!=-1:\n",
    "    print((\"*\"*num))\n",
    "    num-=1"
   ]
  },
  {
   "cell_type": "code",
   "execution_count": 9,
   "metadata": {},
   "outputs": [
    {
     "name": "stdout",
     "output_type": "stream",
     "text": [
      "*****\n",
      " ****\n",
      "  ***\n",
      "   **\n",
      "    *\n"
     ]
    }
   ],
   "source": [
    "num=5\n",
    "space=0\n",
    "while space!=5:\n",
    "    print((\" \"*space)+(\"*\"*num))\n",
    "    space+=1\n",
    "    num-=1"
   ]
  },
  {
   "cell_type": "code",
   "execution_count": 10,
   "metadata": {},
   "outputs": [
    {
     "name": "stdout",
     "output_type": "stream",
     "text": [
      "*\n",
      " *\n",
      "  *\n",
      "   *\n",
      "    *\n"
     ]
    }
   ],
   "source": [
    "space=0\n",
    "while space!=5:\n",
    "    print((\" \"*space)+(\"*\"))\n",
    "    space+=1"
   ]
  },
  {
   "cell_type": "code",
   "execution_count": 11,
   "metadata": {},
   "outputs": [
    {
     "name": "stdout",
     "output_type": "stream",
     "text": [
      "    *\n",
      "   *\n",
      "  *\n",
      " *\n",
      "*\n"
     ]
    }
   ],
   "source": [
    "space=4\n",
    "while space!=-1:\n",
    "    print((\" \"*space)+(\"*\"))\n",
    "    space-=1"
   ]
  },
  {
   "cell_type": "code",
   "execution_count": 15,
   "metadata": {},
   "outputs": [
    {
     "name": "stdout",
     "output_type": "stream",
     "text": [
      "A\n",
      " A\n",
      "  A\n",
      "   A\n",
      "    A\n"
     ]
    }
   ],
   "source": [
    "space=0\n",
    "while space!=5:\n",
    "    print((\" \"*space)+(chr(65)))\n",
    "    space+=1"
   ]
  },
  {
   "cell_type": "code",
   "execution_count": 16,
   "metadata": {},
   "outputs": [
    {
     "name": "stdout",
     "output_type": "stream",
     "text": [
      "    M\n",
      "   M\n",
      "  M\n",
      " M\n",
      "M\n"
     ]
    }
   ],
   "source": [
    "space=4\n",
    "while space!=-1:\n",
    "    print((\" \"*space)+(\"M\"))\n",
    "    space-=1"
   ]
  },
  {
   "cell_type": "code",
   "execution_count": 18,
   "metadata": {},
   "outputs": [
    {
     "name": "stdout",
     "output_type": "stream",
     "text": [
      "A\n",
      "AA\n",
      "AAA\n",
      "AAAA\n",
      "AAAAA\n"
     ]
    }
   ],
   "source": [
    "num=1\n",
    "while num!=6:\n",
    "    print((chr(65)*num))\n",
    "    num+=1"
   ]
  },
  {
   "cell_type": "code",
   "execution_count": 20,
   "metadata": {},
   "outputs": [
    {
     "name": "stdout",
     "output_type": "stream",
     "text": [
      "    B\n",
      "   BB\n",
      "  BBB\n",
      " BBBB\n",
      "BBBBB\n"
     ]
    }
   ],
   "source": [
    "num=1\n",
    "space=4\n",
    "while space!=-1:\n",
    "    print((\" \"*space)+(chr(66)*num))\n",
    "    space-=1\n",
    "    num+=1"
   ]
  },
  {
   "cell_type": "code",
   "execution_count": 22,
   "metadata": {},
   "outputs": [
    {
     "name": "stdout",
     "output_type": "stream",
     "text": [
      "CCCCC\n",
      "CCCC\n",
      "CCC\n",
      "CC\n",
      "C\n",
      "\n"
     ]
    }
   ],
   "source": [
    "num=5\n",
    "while num!=-1:\n",
    "    print((chr(67)*num))\n",
    "    num-=1"
   ]
  },
  {
   "cell_type": "code",
   "execution_count": 23,
   "metadata": {},
   "outputs": [
    {
     "name": "stdout",
     "output_type": "stream",
     "text": [
      "BBBBB\n",
      " BBBB\n",
      "  BBB\n",
      "   BB\n",
      "    B\n",
      "     \n"
     ]
    }
   ],
   "source": [
    "num=5\n",
    "space=0\n",
    "while space!=6:\n",
    "    print((\" \"*space)+(chr(66)*num))\n",
    "    space+=1\n",
    "    num-=1"
   ]
  },
  {
   "cell_type": "code",
   "execution_count": 26,
   "metadata": {},
   "outputs": [
    {
     "name": "stdout",
     "output_type": "stream",
     "text": [
      "A\n",
      "BC\n",
      "DEF\n",
      "GHIJ\n",
      "KLMNO\n"
     ]
    }
   ],
   "source": [
    "num=1\n",
    "char=65\n",
    "while num!=6:\n",
    "    for a in range(num):\n",
    "        print(chr(char),end=\"\")\n",
    "        char+=1\n",
    "    print()\n",
    "    num+=1"
   ]
  },
  {
   "cell_type": "code",
   "execution_count": 28,
   "metadata": {},
   "outputs": [
    {
     "name": "stdout",
     "output_type": "stream",
     "text": [
      "    A\n",
      "   BC\n",
      "  DEF\n",
      " GHIJ\n",
      "KLMNO\n"
     ]
    }
   ],
   "source": [
    "num=1\n",
    "space=4\n",
    "char=65\n",
    "while num!=6:\n",
    "    print(\" \"*space,end=\"\")\n",
    "    for a in range(num):\n",
    "        print(chr(char),end=\"\")\n",
    "        char+=1\n",
    "    print()\n",
    "    space-=1\n",
    "    num+=1"
   ]
  },
  {
   "cell_type": "code",
   "execution_count": 29,
   "metadata": {},
   "outputs": [
    {
     "name": "stdout",
     "output_type": "stream",
     "text": [
      "ABCDE\n",
      "FGHI\n",
      "JKL\n",
      "MN\n",
      "O\n"
     ]
    }
   ],
   "source": [
    "num=5\n",
    "char=65\n",
    "while num!=0:\n",
    "    for a in range(num):\n",
    "        print(chr(char),end=\"\")\n",
    "        char+=1\n",
    "    print()\n",
    "    num-=1"
   ]
  },
  {
   "cell_type": "code",
   "execution_count": 31,
   "metadata": {},
   "outputs": [
    {
     "name": "stdout",
     "output_type": "stream",
     "text": [
      "1\n",
      "11\n",
      "111\n",
      "1111\n",
      "11111\n"
     ]
    }
   ],
   "source": [
    "num=1\n",
    "while num!=6:\n",
    "    print(\"1\"*num)\n",
    "    num+=1"
   ]
  },
  {
   "cell_type": "code",
   "execution_count": 32,
   "metadata": {},
   "outputs": [
    {
     "name": "stdout",
     "output_type": "stream",
     "text": [
      "    2\n",
      "   22\n",
      "  222\n",
      " 2222\n",
      "22222\n"
     ]
    }
   ],
   "source": [
    "num=1\n",
    "space=4\n",
    "while num!=6:\n",
    "    print((\" \"*space)+(\"2\"*num))\n",
    "    num+=1\n",
    "    space-=1"
   ]
  },
  {
   "cell_type": "code",
   "execution_count": 33,
   "metadata": {},
   "outputs": [
    {
     "name": "stdout",
     "output_type": "stream",
     "text": [
      "33333\n",
      "3333\n",
      "333\n",
      "33\n",
      "3\n",
      "\n"
     ]
    }
   ],
   "source": [
    "num=5\n",
    "while num!=-1:\n",
    "    print(\"3\"*num)\n",
    "    num-=1"
   ]
  },
  {
   "cell_type": "code",
   "execution_count": 34,
   "metadata": {},
   "outputs": [
    {
     "name": "stdout",
     "output_type": "stream",
     "text": [
      "44444\n",
      " 4444\n",
      "  444\n",
      "   44\n",
      "    4\n",
      "     \n"
     ]
    }
   ],
   "source": [
    "num=5\n",
    "space=0\n",
    "while num!=-1:\n",
    "    print((\" \"*space)+(\"4\"*num))\n",
    "    space+=1\n",
    "    num-=1"
   ]
  },
  {
   "cell_type": "code",
   "execution_count": 35,
   "metadata": {},
   "outputs": [
    {
     "name": "stdout",
     "output_type": "stream",
     "text": [
      "1\n",
      "12\n",
      "123\n",
      "1234\n",
      "12345\n"
     ]
    }
   ],
   "source": [
    "count=1\n",
    "while count!=6:\n",
    "    for n in range(1,count+1):\n",
    "        print(n,end=\"\")\n",
    "    print()\n",
    "    count+=1"
   ]
  },
  {
   "cell_type": "code",
   "execution_count": 37,
   "metadata": {},
   "outputs": [
    {
     "name": "stdout",
     "output_type": "stream",
     "text": [
      "    1\n",
      "   12\n",
      "  123\n",
      " 1234\n",
      "12345\n"
     ]
    }
   ],
   "source": [
    "count=1\n",
    "space=4\n",
    "while count!=6:\n",
    "    print(\" \"*space,end=\"\")\n",
    "    for n in range(1,count+1):\n",
    "        print(n,end=\"\")\n",
    "    print()\n",
    "    count+=1\n",
    "    space-=1"
   ]
  },
  {
   "cell_type": "code",
   "execution_count": 39,
   "metadata": {},
   "outputs": [
    {
     "name": "stdout",
     "output_type": "stream",
     "text": [
      "12345\n",
      "1234\n",
      "123\n",
      "12\n",
      "1\n"
     ]
    }
   ],
   "source": [
    "count=5\n",
    "while count!=0:\n",
    "    for n in range(1,count+1):\n",
    "        print(n,end=\"\")\n",
    "    print()\n",
    "    count-=1"
   ]
  },
  {
   "cell_type": "code",
   "execution_count": 41,
   "metadata": {},
   "outputs": [
    {
     "name": "stdout",
     "output_type": "stream",
     "text": [
      "12345\n",
      " 1234\n",
      "  123\n",
      "   12\n",
      "    1\n",
      "     \n"
     ]
    }
   ],
   "source": [
    "count=5\n",
    "space=0\n",
    "while count!=-1:\n",
    "    print(\" \"*space,end=\"\")\n",
    "    for n in range(1,count+1):\n",
    "        print(n,end=\"\")\n",
    "    print()\n",
    "    count-=1\n",
    "    space+=1"
   ]
  },
  {
   "cell_type": "code",
   "execution_count": 42,
   "metadata": {},
   "outputs": [
    {
     "name": "stdout",
     "output_type": "stream",
     "text": [
      "1\n",
      "23\n",
      "456\n",
      "78910\n",
      "1112131415\n"
     ]
    }
   ],
   "source": [
    "num=1\n",
    "count=1\n",
    "while count!=6:\n",
    "    for n in range(count):\n",
    "        print(num,end=\"\")\n",
    "        num+=1\n",
    "    print()\n",
    "    count+=1"
   ]
  },
  {
   "cell_type": "code",
   "execution_count": 50,
   "metadata": {},
   "outputs": [
    {
     "name": "stdout",
     "output_type": "stream",
     "text": [
      "    1\n",
      "   23\n",
      "  456\n",
      " 78910\n",
      "1112131415\n"
     ]
    }
   ],
   "source": [
    "num=1\n",
    "count=1\n",
    "space=4\n",
    "while count!=6:\n",
    "    print(\" \"*space,end=\"\")\n",
    "    for n in range(count):\n",
    "        print(num,end=\"\")\n",
    "        num+=1\n",
    "    print()\n",
    "    space-=1\n",
    "    count+=1"
   ]
  },
  {
   "cell_type": "code",
   "execution_count": 53,
   "metadata": {},
   "outputs": [
    {
     "name": "stdout",
     "output_type": "stream",
     "text": [
      "12345\n",
      " 6789\n",
      "  101112\n",
      "   1314\n",
      "    15\n"
     ]
    }
   ],
   "source": [
    "num=1\n",
    "count=5\n",
    "space=0\n",
    "while count!=0:\n",
    "    print(\" \"*space,end=\"\")\n",
    "    for n in range(count):\n",
    "        print(num,end=\"\")\n",
    "        num+=1\n",
    "    print()\n",
    "    space+=1\n",
    "    count-=1"
   ]
  },
  {
   "cell_type": "code",
   "execution_count": 54,
   "metadata": {},
   "outputs": [
    {
     "name": "stdout",
     "output_type": "stream",
     "text": [
      "12345\n",
      "6789\n",
      "101112\n",
      "1314\n",
      "15\n"
     ]
    }
   ],
   "source": [
    "num=1\n",
    "count=5\n",
    "while count!=0:\n",
    "    for n in range(count):\n",
    "        print(num,end=\"\")\n",
    "        num+=1\n",
    "    print()\n",
    "    count-=1"
   ]
  },
  {
   "cell_type": "code",
   "execution_count": 56,
   "metadata": {},
   "outputs": [
    {
     "name": "stdout",
     "output_type": "stream",
     "text": [
      "A\n",
      "BB\n",
      "CCC\n",
      "DDDD\n",
      "EEEEE\n"
     ]
    }
   ],
   "source": [
    "num=65\n",
    "count=1\n",
    "while count!=6:\n",
    "    print(chr(num)*count)\n",
    "    num+=1\n",
    "    count+=1"
   ]
  },
  {
   "cell_type": "code",
   "execution_count": 2,
   "metadata": {},
   "outputs": [
    {
     "name": "stdout",
     "output_type": "stream",
     "text": [
      "    A\n",
      "   BB\n",
      "  CCC\n",
      " DDDD\n",
      "EEEEE\n"
     ]
    }
   ],
   "source": [
    "num=65\n",
    "count=1\n",
    "space=4\n",
    "while count!=6:\n",
    "    print((\" \"*space) + (chr(num)*count))\n",
    "    num+=1\n",
    "    space-=1\n",
    "    count+=1"
   ]
  },
  {
   "cell_type": "code",
   "execution_count": 3,
   "metadata": {},
   "outputs": [
    {
     "name": "stdout",
     "output_type": "stream",
     "text": [
      "AAAAA\n",
      "BBBB\n",
      "CCC\n",
      "DD\n",
      "E\n"
     ]
    }
   ],
   "source": [
    "num=65\n",
    "count=5\n",
    "while count!=0:\n",
    "    print(chr(num)*count)\n",
    "    num+=1\n",
    "    count-=1"
   ]
  },
  {
   "cell_type": "code",
   "execution_count": 4,
   "metadata": {},
   "outputs": [
    {
     "name": "stdout",
     "output_type": "stream",
     "text": [
      "AAAAA\n",
      " BBBB\n",
      "  CCC\n",
      "   DD\n",
      "    E\n",
      "     \n"
     ]
    }
   ],
   "source": [
    "num=65\n",
    "count=5\n",
    "space=0\n",
    "while count!=-1:\n",
    "    print((\" \"*space) + (chr(num)*count))\n",
    "    num+=1\n",
    "    space+=1\n",
    "    count-=1"
   ]
  },
  {
   "cell_type": "code",
   "execution_count": 7,
   "metadata": {},
   "outputs": [
    {
     "name": "stdout",
     "output_type": "stream",
     "text": [
      "1\n",
      "22\n",
      "333\n",
      "4444\n",
      "55555\n"
     ]
    }
   ],
   "source": [
    "num=1\n",
    "count=1\n",
    "while num!=6:\n",
    "    print((str(num)*count))\n",
    "    num+=1\n",
    "    count+=1"
   ]
  },
  {
   "cell_type": "code",
   "execution_count": 2,
   "metadata": {},
   "outputs": [
    {
     "name": "stdout",
     "output_type": "stream",
     "text": [
      "    1\n",
      "   22\n",
      "  333\n",
      " 4444\n",
      "55555\n"
     ]
    }
   ],
   "source": [
    "num=1\n",
    "count=1\n",
    "space=4\n",
    "while num!=6:\n",
    "    print((\" \"*space)+(str(num)*count))\n",
    "    num+=1\n",
    "    count+=1\n",
    "    space-=1"
   ]
  },
  {
   "cell_type": "code",
   "execution_count": 6,
   "metadata": {},
   "outputs": [
    {
     "name": "stdout",
     "output_type": "stream",
     "text": [
      "11111\n",
      "2222\n",
      "333\n",
      "44\n",
      "5\n"
     ]
    }
   ],
   "source": [
    "num=1\n",
    "count=5\n",
    "while num!=6:\n",
    "    print((str(num)*count))\n",
    "    num+=1\n",
    "    count-=1"
   ]
  },
  {
   "cell_type": "code",
   "execution_count": 5,
   "metadata": {},
   "outputs": [
    {
     "name": "stdout",
     "output_type": "stream",
     "text": [
      "11111\n",
      " 2222\n",
      "  333\n",
      "   44\n",
      "    5\n"
     ]
    }
   ],
   "source": [
    "num=1\n",
    "count=5\n",
    "space=0\n",
    "while space!=5:\n",
    "    print((\" \"*space)+(str(num)*count))\n",
    "    num+=1\n",
    "    count-=1\n",
    "    space+=1"
   ]
  },
  {
   "cell_type": "code",
   "execution_count": 1,
   "metadata": {},
   "outputs": [
    {
     "name": "stdout",
     "output_type": "stream",
     "text": [
      "1\n",
      "  2\n",
      "    3\n",
      "      4\n",
      "        5\n",
      "      6\n",
      "    7\n",
      "  8\n",
      "9\n"
     ]
    }
   ],
   "source": [
    "n=9\n",
    "space=0\n",
    "for line in range(1,n+1):\n",
    "    print(\"  \"*space+str(line))\n",
    "    if line<((n+1)//2):\n",
    "        space+=1\n",
    "    else:\n",
    "        space-=1"
   ]
  }
 ],
 "metadata": {
  "kernelspec": {
   "display_name": "Python 3",
   "language": "python",
   "name": "python3"
  },
  "language_info": {
   "codemirror_mode": {
    "name": "ipython",
    "version": 3
   },
   "file_extension": ".py",
   "mimetype": "text/x-python",
   "name": "python",
   "nbconvert_exporter": "python",
   "pygments_lexer": "ipython3",
   "version": "3.12.1"
  }
 },
 "nbformat": 4,
 "nbformat_minor": 2
}
